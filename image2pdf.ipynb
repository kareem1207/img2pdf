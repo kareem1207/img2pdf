{
 "cells": [
  {
   "cell_type": "code",
   "execution_count": 2,
   "id": "fc44b1ff-ecc2-42c1-be09-d0e081f2d6c5",
   "metadata": {},
   "outputs": [
    {
     "name": "stderr",
     "output_type": "stream",
     "text": [
      "Image contains an alpha channel. Computing a separate soft mask (/SMask) image to store transparency in PDF.\n",
      "Image contains an alpha channel. Computing a separate soft mask (/SMask) image to store transparency in PDF.\n"
     ]
    },
    {
     "name": "stdout",
     "output_type": "stream",
     "text": [
      "Successfully created PDF: D:/Python Practice/image to pdf/sample output notebook.pdf\n"
     ]
    }
   ],
   "source": [
    "import img2pdf\n",
    "import os\n",
    "\n",
    "img_folder = input(\"Enter the path of the folder containing images: \")  \n",
    "output_pdf = input(\"Enter the path of the output PDF file with the pdf name at the end: \")\n",
    "\n",
    "img_folder=img_folder.replace(\"\\\\\",\"/\")\n",
    "output_pdf=output_pdf.replace(\"\\\\\",\"/\")\n",
    "\n",
    "if os.path.isdir(output_pdf):\n",
    "    raise ValueError(\"The output path must be a file, not a directory.\")\n",
    "\n",
    "os.makedirs(os.path.dirname(output_pdf), exist_ok=True)\n",
    "\n",
    "image_files = [\n",
    "    os.path.join(img_folder, file)\n",
    "    for file in os.listdir(img_folder)\n",
    "    if file.lower().endswith(('png', 'jpg', 'jpeg', 'bmp', 'tiff'))\n",
    "]\n",
    "\n",
    "if not image_files:\n",
    "    print(\"No valid image files found in the folder.\")\n",
    "else:\n",
    "    with open(output_pdf, \"wb\") as pdf_file:\n",
    "        pdf_file.write(img2pdf.convert(image_files))\n",
    "    print(f\"Successfully created PDF: {output_pdf}\")\n"
   ]
  },
  {
   "cell_type": "code",
   "execution_count": null,
   "id": "374c2dd3",
   "metadata": {},
   "outputs": [],
   "source": []
  }
 ],
 "metadata": {
  "kernelspec": {
   "display_name": "base",
   "language": "python",
   "name": "python3"
  },
  "language_info": {
   "codemirror_mode": {
    "name": "ipython",
    "version": 3
   },
   "file_extension": ".py",
   "mimetype": "text/x-python",
   "name": "python",
   "nbconvert_exporter": "python",
   "pygments_lexer": "ipython3",
   "version": "3.12.4"
  }
 },
 "nbformat": 4,
 "nbformat_minor": 5
}
